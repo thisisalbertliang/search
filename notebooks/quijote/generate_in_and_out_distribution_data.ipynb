{
 "cells": [
  {
   "cell_type": "code",
   "execution_count": 1,
   "metadata": {},
   "outputs": [],
   "source": [
    "import numpy as np"
   ]
  },
  {
   "cell_type": "code",
   "execution_count": 19,
   "metadata": {},
   "outputs": [],
   "source": [
    "lin_input = np.load(\"/user_data/ajliang/Linear/train/LH0000/4/dis.npy\")\n",
    "params = np.load(\"/user_data/ajliang/Linear/train/LH0000/4/params.npy\")"
   ]
  },
  {
   "cell_type": "code",
   "execution_count": 9,
   "metadata": {},
   "outputs": [
    {
     "data": {
      "text/plain": [
       "array([1.755000e-01, 6.681000e-02, 7.737000e-01, 8.849000e-01,\n",
       "       6.641000e-01, 2.220446e-16, 6.842195e-01, 3.779916e-01],\n",
       "      dtype=float32)"
      ]
     },
     "execution_count": 9,
     "metadata": {},
     "output_type": "execute_result"
    }
   ],
   "source": [
    "params"
   ]
  },
  {
   "cell_type": "code",
   "execution_count": 10,
   "metadata": {},
   "outputs": [
    {
     "name": "stdout",
     "output_type": "stream",
     "text": [
      "0.1755\n",
      "0.06681\n",
      "0.7737\n",
      "0.8849\n",
      "0.6641\n",
      "2.220446e-16\n",
      "0.6842195\n",
      "0.3779916\n"
     ]
    }
   ],
   "source": [
    "for p in params:\n",
    "    print(p)"
   ]
  },
  {
   "cell_type": "code",
   "execution_count": 11,
   "metadata": {},
   "outputs": [],
   "source": [
    "m_range = [0.1, 0.5]\n",
    "b_range = [0.03, 0.07]\n",
    "h_range = [0.5, 0.9]\n",
    "ns_range = [0.8, 1.2]\n",
    "se_range = [0.6, 1.0]"
   ]
  },
  {
   "cell_type": "code",
   "execution_count": 20,
   "metadata": {},
   "outputs": [
    {
     "name": "stdout",
     "output_type": "stream",
     "text": [
      "True\n",
      "False\n",
      "False\n",
      "False\n",
      "False\n"
     ]
    }
   ],
   "source": [
    "for s, e in [m_range, b_range, h_range, ns_range, se_range]:\n",
    "    print(s <= params[0] <= e)"
   ]
  },
  {
   "cell_type": "code",
   "execution_count": null,
   "metadata": {},
   "outputs": [],
   "source": []
  },
  {
   "cell_type": "code",
   "execution_count": 6,
   "metadata": {},
   "outputs": [],
   "source": [
    "import numpy as np\n",
    "import shutil\n",
    "import os\n",
    "\n",
    "def generate_ood_data(in_distribution: bool):\n",
    "    \n",
    "    def _is_train_set(simulation_index: int):\n",
    "        return 0 <= int(simulation_index) <= 44\n",
    "    \n",
    "    m_range = [0.1, 0.2] if in_distribution else [0.4, 0.5]\n",
    "    for simulation_index in range(50):\n",
    "        simulation_index = str(simulation_index).zfill(4)\n",
    "        lin_dir = f\"/user_data/ajliang/Linear/{'train' if _is_train_set(simulation_index) else 'val'}/LH{simulation_index}/4\"\n",
    "        nonlin_dir = f\"/user_data/ajliang/Nonlinear/{'train' if _is_train_set(simulation_index) else 'val'}/LH{simulation_index}/4\"\n",
    "        params = np.load(f\"{lin_dir}/params.npy\")\n",
    "        \n",
    "        m = params[0]\n",
    "        if m_range[0] <= m <= m_range[1]:\n",
    "            print(f\"Found simulation {simulation_index} with m={m}. Adding to {'in' if in_distribution else 'out'}-distribution data.\")\n",
    "            out_dir = f\"/user_data/ajliang/ood_data/{'in' if in_distribution else 'out'}_distribution/train/LH{simulation_index}\"\n",
    "            \n",
    "            os.makedirs(out_dir, exist_ok=True)\n",
    "            shutil.copyfile(\n",
    "                f\"{lin_dir}/dis.npy\",\n",
    "                f\"{out_dir}/lin.npy\"\n",
    "            )\n",
    "            shutil.copyfile(\n",
    "                f\"{lin_dir}/params.npy\",\n",
    "                f\"{out_dir}/params.npy\"\n",
    "            )\n",
    "            # also copy the nonlinear field\n",
    "            shutil.copyfile(\n",
    "                f\"{nonlin_dir}/dis.npy\",\n",
    "                f\"{out_dir}/nonlin.npy\"\n",
    "            )\n",
    "\n",
    "        "
   ]
  },
  {
   "cell_type": "code",
   "execution_count": 7,
   "metadata": {},
   "outputs": [
    {
     "name": "stdout",
     "output_type": "stream",
     "text": [
      "Found simulation 0000 with m=0.17550000548362732. Adding to in-distribution data.\n",
      "Found simulation 0002 with m=0.1867000013589859. Adding to in-distribution data.\n",
      "Found simulation 0004 with m=0.14329999685287476. Adding to in-distribution data.\n",
      "Found simulation 0010 with m=0.18209999799728394. Adding to in-distribution data.\n",
      "Found simulation 0012 with m=0.13809999823570251. Adding to in-distribution data.\n",
      "Found simulation 0014 with m=0.13269999623298645. Adding to in-distribution data.\n",
      "Found simulation 0018 with m=0.11309999972581863. Adding to in-distribution data.\n",
      "Found simulation 0021 with m=0.17669999599456787. Adding to in-distribution data.\n",
      "Found simulation 0022 with m=0.1251000016927719. Adding to in-distribution data.\n",
      "Found simulation 0023 with m=0.1551000028848648. Adding to in-distribution data.\n",
      "Found simulation 0030 with m=0.1931000053882599. Adding to in-distribution data.\n",
      "Found simulation 0035 with m=0.1729000061750412. Adding to in-distribution data.\n",
      "Found simulation 0042 with m=0.1315000057220459. Adding to in-distribution data.\n",
      "Found simulation 0043 with m=0.17489999532699585. Adding to in-distribution data.\n"
     ]
    }
   ],
   "source": [
    "generate_ood_data(in_distribution=True)"
   ]
  },
  {
   "cell_type": "code",
   "execution_count": 8,
   "metadata": {},
   "outputs": [
    {
     "name": "stdout",
     "output_type": "stream",
     "text": [
      "Found simulation 0005 with m=0.4812999963760376. Adding to out-distribution data.\n",
      "Found simulation 0006 with m=0.414900004863739. Adding to out-distribution data.\n",
      "Found simulation 0009 with m=0.4196999967098236. Adding to out-distribution data.\n",
      "Found simulation 0011 with m=0.4194999933242798. Adding to out-distribution data.\n",
      "Found simulation 0015 with m=0.47909998893737793. Adding to out-distribution data.\n",
      "Found simulation 0019 with m=0.47510001063346863. Adding to out-distribution data.\n",
      "Found simulation 0028 with m=0.4034999907016754. Adding to out-distribution data.\n",
      "Found simulation 0029 with m=0.4092999994754791. Adding to out-distribution data.\n",
      "Found simulation 0031 with m=0.4083000123500824. Adding to out-distribution data.\n",
      "Found simulation 0037 with m=0.46549999713897705. Adding to out-distribution data.\n",
      "Found simulation 0040 with m=0.42750000953674316. Adding to out-distribution data.\n",
      "Found simulation 0046 with m=0.44350001215934753. Adding to out-distribution data.\n",
      "Found simulation 0048 with m=0.47049999237060547. Adding to out-distribution data.\n"
     ]
    }
   ],
   "source": [
    "generate_ood_data(in_distribution=False)"
   ]
  },
  {
   "cell_type": "code",
   "execution_count": 36,
   "metadata": {},
   "outputs": [
    {
     "name": "stdout",
     "output_type": "stream",
     "text": [
      "b: 0.010058018905960451\n",
      "h: 0.12389502566246377\n",
      "n: 0.1039996683859943\n",
      "sigma: 0.11134595758231516\n"
     ]
    }
   ],
   "source": [
    "bs, hs, ns, sigmas = [], [], [], []\n",
    "for simulation_index in range(44):\n",
    "    simulation_index = str(simulation_index).zfill(4)\n",
    "    \n",
    "    params_file_path = f\"/user_data/ajliang/Linear/train/LH{simulation_index}/4/params.npy\"\n",
    "    params = np.load(params_file_path)\n",
    "    bs.append(float(params[1]))\n",
    "    hs.append(float(params[2]))\n",
    "    ns.append(float(params[3]))\n",
    "    sigmas.append(float(params[4]))\n",
    "\n",
    "from statistics import stdev\n",
    "print(f\"b: {stdev(bs)}\")\n",
    "print(f\"h: {stdev(hs)}\")\n",
    "print(f\"n: {stdev(ns)}\")\n",
    "print(f\"sigma: {stdev(sigmas)}\")"
   ]
  }
 ],
 "metadata": {
  "kernelspec": {
   "display_name": "albert",
   "language": "python",
   "name": "python3"
  },
  "language_info": {
   "codemirror_mode": {
    "name": "ipython",
    "version": 3
   },
   "file_extension": ".py",
   "mimetype": "text/x-python",
   "name": "python",
   "nbconvert_exporter": "python",
   "pygments_lexer": "ipython3",
   "version": "3.9.13"
  },
  "orig_nbformat": 4,
  "vscode": {
   "interpreter": {
    "hash": "eb8ddfe2b29a834438c8df53a8ba26d393225fbf1f4f2abe70a81f8017474235"
   }
  }
 },
 "nbformat": 4,
 "nbformat_minor": 2
}
