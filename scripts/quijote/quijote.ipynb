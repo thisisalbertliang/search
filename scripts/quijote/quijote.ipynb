{
 "cells": [
  {
   "cell_type": "code",
   "execution_count": 58,
   "metadata": {},
   "outputs": [],
   "source": [
    "import numpy as np\n",
    "\n",
    "def find_simulation_with_params(target_params: np.ndarray) -> str:\n",
    "    simulation_to_rel_error = {}\n",
    "    for simulation in range(2000):\n",
    "        simulation_index = str(simulation).zfill(4)\n",
    "        data_dir = f'/user_data/ajliang/Quijote/LH{simulation_index}'\n",
    "        params_path = f'{data_dir}/params.npy'\n",
    "        simulation_params = np.load(params_path)\n",
    "        # drop the last three params, which are time dependent\n",
    "        simulation_params = simulation_params[:-3]\n",
    "        \n",
    "        simulation_to_rel_error[simulation_index] = {\n",
    "            param_name: abs(target_param_val - simulation_params[i]) / target_param_val\n",
    "            for i, (param_name, target_param_val) in enumerate(target_params.items())\n",
    "        }\n",
    "    \n",
    "    return simulation_to_rel_error\n",
    "        \n",
    "    \n",
    "    # print(f'Found {len(found_simulations)} simulations')\n",
    "    # closest_simulation = min(found_simulations, key=lambda index: np.linalg.norm(found_simulations[index] - target_params))\n",
    "    # print(f'Closest simulation is LH{closest_simulation} with params {found_simulations[closest_simulation]}')"
   ]
  },
  {
   "cell_type": "code",
   "execution_count": 59,
   "metadata": {},
   "outputs": [],
   "source": [
    "backward_model_fake_data_params = {\n",
    "    'omega_m': 3.000000e-01,\n",
    "    'omega_b': 5.000000e-02,\n",
    "    'h': 7.000000e-01,\n",
    "    'n_s': 9.650000e-01,\n",
    "    'sigma_8': 7.999980e-01,\n",
    "}\n",
    "\n",
    "simulation_to_rel_error = find_simulation_with_params(target_params=backward_model_fake_data_params)"
   ]
  },
  {
   "cell_type": "code",
   "execution_count": 60,
   "metadata": {},
   "outputs": [],
   "source": [
    "def sort_key(simulation_and_rel_error):\n",
    "    _, rel_error = simulation_and_rel_error\n",
    "    omega_m_rel_error = rel_error['omega_m']\n",
    "    sigma_8_rel_error = rel_error['sigma_8']\n",
    "    return omega_m_rel_error + sigma_8_rel_error\n",
    "\n",
    "sorted_simulations = sorted(\n",
    "    simulation_to_rel_error.items(),\n",
    "    key=sort_key,\n",
    "    reverse=True,\n",
    ")"
   ]
  },
  {
   "cell_type": "code",
   "execution_count": 61,
   "metadata": {},
   "outputs": [
    {
     "name": "stdout",
     "output_type": "stream",
     "text": [
      "Backward model is trained on params: {'omega_m': 0.3, 'omega_b': 0.05, 'h': 0.7, 'n_s': 0.965, 'sigma_8': 0.799998}\n",
      "\n",
      "The 100.0th percentile OOD Quijote simulation is LH1045 with: \n",
      "    * relative difference: {'omega_m': '66%', 'omega_b': '13%', 'h': '15%', 'n_s': '6%', 'sigma_8': '25%'}\n",
      "    * actual params: {'omega_m': 0.4969, 'omega_b': 0.04369, 'h': 0.8053, 'n_s': 0.9097, 'sigma_8': 0.6003}\n",
      "\n",
      "The 90.0th percentile OOD Quijote simulation is LH1416 with: \n",
      "    * relative difference: {'omega_m': '55%', 'omega_b': '14%', 'h': '7%', 'n_s': '10%', 'sigma_8': '18%'}\n",
      "    * actual params: {'omega_m': 0.1363, 'omega_b': 0.04279, 'h': 0.7483, 'n_s': 1.0659, 'sigma_8': 0.6535}\n",
      "\n",
      "The 80.0th percentile OOD Quijote simulation is LH0715 with: \n",
      "    * relative difference: {'omega_m': '64%', 'omega_b': '37%', 'h': '26%', 'n_s': '3%', 'sigma_8': '2%'}\n",
      "    * actual params: {'omega_m': 0.4907, 'omega_b': 0.06853, 'h': 0.5179, 'n_s': 0.9323, 'sigma_8': 0.8195}\n",
      "\n",
      "The 70.0th percentile OOD Quijote simulation is LH1460 with: \n",
      "    * relative difference: {'omega_m': '43%', 'omega_b': '5%', 'h': '1%', 'n_s': '0%', 'sigma_8': '16%'}\n",
      "    * actual params: {'omega_m': 0.1705, 'omega_b': 0.04731, 'h': 0.6937, 'n_s': 0.9695, 'sigma_8': 0.6687}\n",
      "\n",
      "The 60.0th percentile OOD Quijote simulation is LH0700 with: \n",
      "    * relative difference: {'omega_m': '37%', 'omega_b': '29%', 'h': '20%', 'n_s': '2%', 'sigma_8': '15%'}\n",
      "    * actual params: {'omega_m': 0.4117, 'omega_b': 0.03563, 'h': 0.8399, 'n_s': 0.9421, 'sigma_8': 0.6779}\n",
      "\n",
      "The 50.0th percentile OOD Quijote simulation is LH0727 with: \n",
      "    * relative difference: {'omega_m': '45%', 'omega_b': '6%', 'h': '20%', 'n_s': '24%', 'sigma_8': '1%'}\n",
      "    * actual params: {'omega_m': 0.4343, 'omega_b': 0.05293, 'h': 0.5571, 'n_s': 1.1979, 'sigma_8': 0.8057}\n",
      "\n",
      "The 40.0th percentile OOD Quijote simulation is LH0662 with: \n",
      "    * relative difference: {'omega_m': '24%', 'omega_b': '8%', 'h': '24%', 'n_s': '4%', 'sigma_8': '15%'}\n",
      "    * actual params: {'omega_m': 0.3733, 'omega_b': 0.05409, 'h': 0.8691, 'n_s': 0.9221, 'sigma_8': 0.6777}\n",
      "\n",
      "The 30.0th percentile OOD Quijote simulation is LH0482 with: \n",
      "    * relative difference: {'omega_m': '26%', 'omega_b': '11%', 'h': '6%', 'n_s': '19%', 'sigma_8': '6%'}\n",
      "    * actual params: {'omega_m': 0.2213, 'omega_b': 0.04473, 'h': 0.7405, 'n_s': 1.1493, 'sigma_8': 0.8463}\n",
      "\n",
      "The 20.0th percentile OOD Quijote simulation is LH0853 with: \n",
      "    * relative difference: {'omega_m': '4%', 'omega_b': '35%', 'h': '4%', 'n_s': '3%', 'sigma_8': '22%'}\n",
      "    * actual params: {'omega_m': 0.3109, 'omega_b': 0.06729, 'h': 0.6729, 'n_s': 0.9933, 'sigma_8': 0.9771}\n",
      "\n",
      "The 10.0th percentile OOD Quijote simulation is LH1026 with: \n",
      "    * relative difference: {'omega_m': '7%', 'omega_b': '28%', 'h': '15%', 'n_s': '16%', 'sigma_8': '11%'}\n",
      "    * actual params: {'omega_m': 0.3203, 'omega_b': 0.06415, 'h': 0.8055, 'n_s': 1.1217, 'sigma_8': 0.8907}\n",
      "\n",
      "The 0.0th percentile OOD Quijote simulation is LH0699 with: \n",
      "    * relative difference: {'omega_m': '1%', 'omega_b': '34%', 'h': '25%', 'n_s': '13%', 'sigma_8': '1%'}\n",
      "    * actual params: {'omega_m': 0.2957, 'omega_b': 0.06705, 'h': 0.5225, 'n_s': 1.0913, 'sigma_8': 0.8061}\n",
      "\n"
     ]
    }
   ],
   "source": [
    "param_name_to_index = {'omega_m': 0, 'omega_b': 1, 'h': 2, 'n_s': 3, 'sigma_8': 4}\n",
    "\n",
    "num_ood_simulations = 11\n",
    "indices = np.round(np.linspace(0, len(sorted_simulations) - 1, num_ood_simulations)).astype(int)\n",
    "print(f\"Backward model is trained on params: {backward_model_fake_data_params}\")\n",
    "print()\n",
    "percentile_gap = 100 / (num_ood_simulations - 1)\n",
    "for i, ind in enumerate(indices):\n",
    "    percentile = 100 - i * percentile_gap\n",
    "    simulation, error = sorted_simulations[ind]\n",
    "    \n",
    "    rel_error = {\n",
    "        param_name: f\"{rel_error:.0%}\"\n",
    "        for param_name, rel_error in error.items()\n",
    "    }\n",
    "    \n",
    "    print(f\"The {percentile}th percentile OOD Quijote simulation is LH{simulation} with: \")\n",
    "    print(f\"    * relative difference: {rel_error}\")\n",
    "    actual_params = np.load(f'/user_data/ajliang/Quijote/LH{simulation}/params.npy')[:-3]\n",
    "    actual_params = {\n",
    "        param_name: actual_params[ind]\n",
    "        for param_name, ind in param_name_to_index.items()\n",
    "    }\n",
    "    print(f\"    * actual params: {actual_params}\")\n",
    "    print()\n"
   ]
  },
  {
   "cell_type": "code",
   "execution_count": 62,
   "metadata": {},
   "outputs": [
    {
     "name": "stdout",
     "output_type": "stream",
     "text": [
      "The #1 most OOD simulation is LH1045 with: \n",
      "    * relative difference: {'omega_m': '66%', 'omega_b': '13%', 'h': '15%', 'n_s': '6%', 'sigma_8': '25%'}\n",
      "    * actual params: {'omega_m': 0.4969, 'omega_b': 0.04369, 'h': 0.8053, 'n_s': 0.9097, 'sigma_8': 0.6003}\n",
      "\n",
      "The #2 most OOD simulation is LH0590 with: \n",
      "    * relative difference: {'omega_m': '66%', 'omega_b': '3%', 'h': '3%', 'n_s': '23%', 'sigma_8': '24%'}\n",
      "    * actual params: {'omega_m': 0.1019, 'omega_b': 0.05165, 'h': 0.6771, 'n_s': 1.1857, 'sigma_8': 0.9921}\n",
      "\n",
      "The #3 most OOD simulation is LH1988 with: \n",
      "    * relative difference: {'omega_m': '65%', 'omega_b': '30%', 'h': '13%', 'n_s': '23%', 'sigma_8': '24%'}\n",
      "    * actual params: {'omega_m': 0.4945, 'omega_b': 0.06513, 'h': 0.6117, 'n_s': 1.1905, 'sigma_8': 0.6043}\n",
      "\n",
      "The #4 most OOD simulation is LH0785 with: \n",
      "    * relative difference: {'omega_m': '65%', 'omega_b': '23%', 'h': '27%', 'n_s': '1%', 'sigma_8': '24%'}\n",
      "    * actual params: {'omega_m': 0.1053, 'omega_b': 0.06153, 'h': 0.8891, 'n_s': 0.9523, 'sigma_8': 0.6051}\n",
      "\n",
      "The #5 most OOD simulation is LH0506 with: \n",
      "    * relative difference: {'omega_m': '66%', 'omega_b': '6%', 'h': '5%', 'n_s': '22%', 'sigma_8': '23%'}\n",
      "    * actual params: {'omega_m': 0.1027, 'omega_b': 0.05319, 'h': 0.7343, 'n_s': 1.1801, 'sigma_8': 0.9847}\n",
      "\n"
     ]
    }
   ],
   "source": [
    "for i in range(5):\n",
    "    simulation, error = sorted_simulations[i]\n",
    "    print(f\"The #{i + 1} most OOD simulation is LH{simulation} with: \")\n",
    "    error = {\n",
    "        param_name: f\"{rel_error:.0%}\"\n",
    "        for param_name, rel_error in error.items()\n",
    "    }\n",
    "    print(f\"    * relative difference: {error}\")\n",
    "    actual_params = np.load(f'/user_data/ajliang/Quijote/LH{simulation}/params.npy')[:-3]\n",
    "    actual_params = {\n",
    "        param_name: actual_params[ind]\n",
    "        for param_name, ind in param_name_to_index.items()\n",
    "    }\n",
    "    print(f\"    * actual params: {actual_params}\")\n",
    "    print()"
   ]
  },
  {
   "cell_type": "code",
   "execution_count": null,
   "metadata": {},
   "outputs": [],
   "source": []
  }
 ],
 "metadata": {
  "kernelspec": {
   "display_name": "albert",
   "language": "python",
   "name": "python3"
  },
  "language_info": {
   "codemirror_mode": {
    "name": "ipython",
    "version": 3
   },
   "file_extension": ".py",
   "mimetype": "text/x-python",
   "name": "python",
   "nbconvert_exporter": "python",
   "pygments_lexer": "ipython3",
   "version": "3.9.13"
  },
  "orig_nbformat": 4
 },
 "nbformat": 4,
 "nbformat_minor": 2
}
